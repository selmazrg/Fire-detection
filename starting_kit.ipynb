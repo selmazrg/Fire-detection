{
 "cells": [
  {
   "cell_type": "markdown",
   "metadata": {},
   "source": [
    "# RAMP Sarting kit on fire detection"
   ]
  },
  {
   "cell_type": "markdown",
   "metadata": {},
   "source": [
    "## Table of Contents\n",
    "\n",
    "- [Introduction](#introduction)\n",
    "- [The Dataset](#the-dataset)\n",
    "- [Preprocessing](#Preprocessing)\n",
    "- [Requirements](#Requirements)\n",
    "- [Data exploration](#data-exploration)\n",
    "- [Base Model](#base-model)\n",
    "\n",
    "## Introduction\n",
    "\n",
    "The objective of this challenge is to predict the occurrence of wildfires based on meteorological data and information about the population in French municipalities.\n",
    "\n",
    "## The Dataset\n",
    "\n",
    "We have merged several datasets to gather diverse information regarding the occurrence of wildfires. The meteorological data is sourced from Météo France and has been merged with information on wildfire incidents in French municipalities. This merging process has resulted in a comprehensive database that allows us to analyze the occurrence of wildfires based on specific characteristics.\n",
    "\n",
    "For this challenge, the data underwent preprocessing and was subsequently divided to maintain a private test set. This test set will be used to evaluate the models on our servers.\n",
    "\n",
    "Please review and provide any additional details or clarifications if needed.\n",
    "\n",
    "\n",
    "## Requirements"
   ]
  },
  {
   "cell_type": "code",
   "execution_count": 76,
   "metadata": {},
   "outputs": [],
   "source": [
    "import geoviews as gv\n",
    "import numpy as np\n",
    "import pandas as pd\n",
    "import geoviews.feature as gf\n",
    "import xarray as xr\n",
    "from cartopy import crs\n",
    "from geoviews import dim\n",
    "import geopandas as gpd\n",
    "import matplotlib.pyplot as plt\n",
    "from sklearn.ensemble import RandomForestClassifier\n",
    "from sklearn.model_selection import train_test_split\n",
    "from sklearn.metrics import accuracy_score\n",
    "from sklearn.pipeline import Pipeline\n",
    "from sklearn.preprocessing import StandardScaler"
   ]
  },
  {
   "cell_type": "markdown",
   "metadata": {},
   "source": [
    "## Preprocessing\n",
    "\n",
    "Our database is composed of several merged datasets. For the simplicity of the challenge, we provide you with the already merged data, and we have dropped non-essential data in advance. Our dataset now contains only the most relevant features."
   ]
  },
  {
   "cell_type": "code",
   "execution_count": 63,
   "metadata": {},
   "outputs": [],
   "source": [
    "X_train = pd.read_csv('data/train/X_train.csv')\n",
    "X_test = pd.read_csv('data/test/public/X_test_public.csv')\n",
    "\n",
    "Y_train = pd.read_csv('data/train/Y_train.csv')\n",
    "Y_test = pd.read_csv('data/test/public/Y_test_public.csv')"
   ]
  },
  {
   "cell_type": "markdown",
   "metadata": {},
   "source": [
    "## Data exploration\n"
   ]
  },
  {
   "cell_type": "code",
   "execution_count": 34,
   "metadata": {},
   "outputs": [
    {
     "data": {
      "text/plain": [
       "Index(['Direction du vent moyen 10 mn', 'Vitesse du vent moyen 10 mn',\n",
       "       'Température', 'Humidité',\n",
       "       'Précipitations dans les 24 dernières heures', 'Latitude', 'Longitude',\n",
       "       'Altitude', 'Température minimale du sol sur 12 heures (en °C)',\n",
       "       'region (code)',\n",
       "       ...\n",
       "       'region (name)_Saint-Barthélemy',\n",
       "       'region (name)_Saint-Pierre-et-Miquelon',\n",
       "       'region (name)_Terres australes et antarctiques françaises',\n",
       "       'region (name)_Île-de-France', 'Type Touristique_Commune touristique',\n",
       "       'Type Touristique_Station classée de tourisme',\n",
       "       'Libellé typologie_Communes de densité intermédiaire',\n",
       "       'Libellé typologie_Communes densément peuplées',\n",
       "       'Libellé typologie_Communes peu denses',\n",
       "       'Libellé typologie_Communes très peu denses'],\n",
       "      dtype='object', length=358)"
      ]
     },
     "execution_count": 34,
     "metadata": {},
     "output_type": "execute_result"
    }
   ],
   "source": [
    "X_train.columns\n"
   ]
  },
  {
   "cell_type": "code",
   "execution_count": 35,
   "metadata": {},
   "outputs": [
    {
     "data": {
      "text/plain": [
       "Direction du vent moyen 10 mn                          float64\n",
       "Vitesse du vent moyen 10 mn                            float64\n",
       "Température                                            float64\n",
       "Humidité                                               float64\n",
       "Précipitations dans les 24 dernières heures            float64\n",
       "                                                        ...   \n",
       "Type Touristique_Station classée de tourisme             uint8\n",
       "Libellé typologie_Communes de densité intermédiaire      uint8\n",
       "Libellé typologie_Communes densément peuplées            uint8\n",
       "Libellé typologie_Communes peu denses                    uint8\n",
       "Libellé typologie_Communes très peu denses               uint8\n",
       "Length: 358, dtype: object"
      ]
     },
     "execution_count": 35,
     "metadata": {},
     "output_type": "execute_result"
    }
   ],
   "source": [
    "X_train.dtypes"
   ]
  },
  {
   "cell_type": "code",
   "execution_count": 36,
   "metadata": {},
   "outputs": [
    {
     "data": {
      "text/html": [
       "<div>\n",
       "<style scoped>\n",
       "    .dataframe tbody tr th:only-of-type {\n",
       "        vertical-align: middle;\n",
       "    }\n",
       "\n",
       "    .dataframe tbody tr th {\n",
       "        vertical-align: top;\n",
       "    }\n",
       "\n",
       "    .dataframe thead th {\n",
       "        text-align: right;\n",
       "    }\n",
       "</style>\n",
       "<table border=\"1\" class=\"dataframe\">\n",
       "  <thead>\n",
       "    <tr style=\"text-align: right;\">\n",
       "      <th></th>\n",
       "      <th>Incendie</th>\n",
       "    </tr>\n",
       "  </thead>\n",
       "  <tbody>\n",
       "    <tr>\n",
       "      <th>0</th>\n",
       "      <td>0.0</td>\n",
       "    </tr>\n",
       "    <tr>\n",
       "      <th>1</th>\n",
       "      <td>0.0</td>\n",
       "    </tr>\n",
       "    <tr>\n",
       "      <th>2</th>\n",
       "      <td>0.0</td>\n",
       "    </tr>\n",
       "    <tr>\n",
       "      <th>3</th>\n",
       "      <td>0.0</td>\n",
       "    </tr>\n",
       "    <tr>\n",
       "      <th>4</th>\n",
       "      <td>0.0</td>\n",
       "    </tr>\n",
       "    <tr>\n",
       "      <th>...</th>\n",
       "      <td>...</td>\n",
       "    </tr>\n",
       "    <tr>\n",
       "      <th>17980</th>\n",
       "      <td>0.0</td>\n",
       "    </tr>\n",
       "    <tr>\n",
       "      <th>17981</th>\n",
       "      <td>0.0</td>\n",
       "    </tr>\n",
       "    <tr>\n",
       "      <th>17982</th>\n",
       "      <td>0.0</td>\n",
       "    </tr>\n",
       "    <tr>\n",
       "      <th>17983</th>\n",
       "      <td>1.0</td>\n",
       "    </tr>\n",
       "    <tr>\n",
       "      <th>17984</th>\n",
       "      <td>1.0</td>\n",
       "    </tr>\n",
       "  </tbody>\n",
       "</table>\n",
       "<p>17985 rows × 1 columns</p>\n",
       "</div>"
      ],
      "text/plain": [
       "       Incendie\n",
       "0           0.0\n",
       "1           0.0\n",
       "2           0.0\n",
       "3           0.0\n",
       "4           0.0\n",
       "...         ...\n",
       "17980       0.0\n",
       "17981       0.0\n",
       "17982       0.0\n",
       "17983       1.0\n",
       "17984       1.0\n",
       "\n",
       "[17985 rows x 1 columns]"
      ]
     },
     "execution_count": 36,
     "metadata": {},
     "output_type": "execute_result"
    }
   ],
   "source": [
    "Y_train"
   ]
  },
  {
   "cell_type": "markdown",
   "metadata": {},
   "source": [
    "## Base Model"
   ]
  },
  {
   "cell_type": "code",
   "execution_count": 77,
   "metadata": {},
   "outputs": [
    {
     "name": "stderr",
     "output_type": "stream",
     "text": [
      "c:\\Users\\Valen\\anaconda3\\envs\\ML\\lib\\site-packages\\sklearn\\base.py:1474: DataConversionWarning: A column-vector y was passed when a 1d array was expected. Please change the shape of y to (n_samples,), for example using ravel().\n",
      "  return fit_method(estimator, *args, **kwargs)\n",
      "c:\\Users\\Valen\\anaconda3\\envs\\ML\\lib\\site-packages\\sklearn\\base.py:1474: DataConversionWarning: A column-vector y was passed when a 1d array was expected. Please change the shape of y to (n_samples,), for example using ravel().\n",
      "  return fit_method(estimator, *args, **kwargs)\n"
     ]
    },
    {
     "name": "stdout",
     "output_type": "stream",
     "text": [
      "0.9074982480728802\n"
     ]
    }
   ],
   "source": [
    "model = RandomForestClassifier()\n",
    "model.fit(X_train, Y_train)\n",
    "\n",
    "clf = Pipeline(steps=[\n",
    "    ('scaler', StandardScaler()),\n",
    "    ('classifier', RandomForestClassifier())\n",
    "])\n",
    "\n",
    "clf.fit(X_train, Y_train)\n",
    "y_pred = clf.predict(X_test)\n",
    "print(accuracy_score(Y_test, y_pred))"
   ]
  }
 ],
 "metadata": {
  "kernelspec": {
   "display_name": "Python 3",
   "language": "python",
   "name": "python3"
  },
  "language_info": {
   "codemirror_mode": {
    "name": "ipython",
    "version": 3
   },
   "file_extension": ".py",
   "mimetype": "text/x-python",
   "name": "python",
   "nbconvert_exporter": "python",
   "pygments_lexer": "ipython3",
   "version": "3.10.9"
  }
 },
 "nbformat": 4,
 "nbformat_minor": 2
}
