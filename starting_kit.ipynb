{
 "cells": [
  {
   "cell_type": "markdown",
   "metadata": {},
   "source": [
    "# RAMP Sarting kit on fire detection"
   ]
  },
  {
   "cell_type": "markdown",
   "metadata": {},
   "source": [
    "## Table of Contents\n",
    "\n",
    "## Introduction\n",
    "\n",
    "The objective of this challenge is to predict the occurrence of wildfires based on meteorological data and information about the population in French municipalities.\n",
    "\n",
    "## The Dataset\n",
    "\n",
    "We have compiled several datasets to gather diverse information regarding the occurrence of wildfires. The meteorological data is sourced from Météo France and has been merged with information on wildfire incidents in French municipalities. This merging process has resulted in a comprehensive database that allows us to analyze the occurrence of wildfires based on specific characteristics.\n",
    "\n",
    "For this challenge, the data underwent preprocessing and was subsequently divided to maintain a private test set. This test set will be used to evaluate the models on our servers.\n",
    "\n",
    "Please review and provide any additional details or clarifications if needed.\n"
   ]
  },
  {
   "cell_type": "markdown",
   "metadata": {},
   "source": [
    "## Preprocessing\n",
    "\n",
    "Our dataset contains numerous features; we are dropping non-essential data."
   ]
  },
  {
   "cell_type": "code",
   "execution_count": null,
   "metadata": {},
   "outputs": [],
   "source": []
  },
  {
   "cell_type": "markdown",
   "metadata": {},
   "source": [
    "## Requirements\n"
   ]
  },
  {
   "cell_type": "markdown",
   "metadata": {},
   "source": [
    "##"
   ]
  },
  {
   "cell_type": "code",
   "execution_count": null,
   "metadata": {},
   "outputs": [],
   "source": [
    "import geoviews as gv\n",
    "import numpy as np\n",
    "import pandas as pd\n",
    "import geoviews.feature as gf\n",
    "import xarray as xr\n",
    "from cartopy import crs\n",
    "from geoviews import dim\n",
    "import geopandas as gpd\n",
    "import matplotlib.pyplot as plt"
   ]
  },
  {
   "cell_type": "markdown",
   "metadata": {},
   "source": [
    "## Data exploration\n"
   ]
  },
  {
   "cell_type": "markdown",
   "metadata": {},
   "source": []
  },
  {
   "cell_type": "code",
   "execution_count": null,
   "metadata": {},
   "outputs": [],
   "source": []
  },
  {
   "cell_type": "markdown",
   "metadata": {},
   "source": [
    "## Base Model"
   ]
  },
  {
   "cell_type": "markdown",
   "metadata": {},
   "source": []
  }
 ],
 "metadata": {
  "language_info": {
   "name": "python"
  }
 },
 "nbformat": 4,
 "nbformat_minor": 2
}
